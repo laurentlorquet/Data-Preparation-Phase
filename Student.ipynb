{
 "cells": [
  {
   "cell_type": "markdown",
   "id": "e2bbcfdd-b4cd-4fba-9434-ccdbc2166fd2",
   "metadata": {},
   "source": [
    "# Homework 1 - Data Preparation Phase"
   ]
  },
  {
   "cell_type": "markdown",
   "id": "b9376e10-8192-46bd-a1cb-bee550d2fb40",
   "metadata": {},
   "source": [
    "Dataset: Student Performance\n",
    "\n",
    "Description: \n",
    "This data approach student achievement in secondary education of two Portuguese schools. \n",
    "The data attributes include student grades, demographic, social and school related features) and it was collected by using school reports and questionnaires. \n",
    "Two datasets are provided regarding the performance in two distinct subjects: Mathematics (mat) and Portuguese language (por). In [Cortez and Silva, 2008], \n",
    "the two datasets were modeled under binary/five-level classification and regression tasks. Important note: the target attribute G3 has a strong correlation \n",
    "with attributes G2 and G1. This occurs because G3 is the final year grade (issued at the 3rd period), while G1 and G2 correspond to the 1st and 2nd period grades. \n",
    "It is more difficult to predict G3 without G2 and G1, but such prediction is much more useful (see paper source for more details).\n",
    "\n",
    "In this model, I will be focusing solely on the mathematical portion of this dataset\n",
    "\n",
    "https://archive.ics.uci.edu/datasets\n",
    "Search -> Social Sciences -> Download\n",
    "https://archive.ics.uci.edu/dataset/320/student+performance"
   ]
  },
  {
   "cell_type": "code",
   "execution_count": 2,
   "id": "40e7f5d9-2514-4e6e-ae4e-8b9ec95298f6",
   "metadata": {
    "tags": []
   },
   "outputs": [],
   "source": [
    "import pandas as pd   # Import the pandas module"
   ]
  },
  {
   "cell_type": "code",
   "execution_count": 3,
   "id": "3e8ecacc-3853-4e65-a165-3a5f6fe5eaf3",
   "metadata": {
    "tags": []
   },
   "outputs": [],
   "source": [
    "# Read the csv file\n",
    "Student = pd.read_csv('student-mat.csv',sep=';') "
   ]
  },
  {
   "cell_type": "code",
   "execution_count": 4,
   "id": "95d2d428-a23c-4163-a2f1-e5f4b3e3f915",
   "metadata": {
    "tags": []
   },
   "outputs": [
    {
     "data": {
      "text/plain": [
       "(395, 33)"
      ]
     },
     "execution_count": 4,
     "metadata": {},
     "output_type": "execute_result"
    }
   ],
   "source": [
    "Student.shape # Check the shape of the object"
   ]
  },
  {
   "cell_type": "code",
   "execution_count": 5,
   "id": "1c37eaa2-ba34-4133-9bcd-f7fa5a735268",
   "metadata": {
    "tags": []
   },
   "outputs": [
    {
     "name": "stdout",
     "output_type": "stream",
     "text": [
      "  school sex  age address famsize Pstatus  Medu  Fedu     Mjob      Fjob  ...  \\\n",
      "0     GP   F   18       U     GT3       A     4     4  at_home   teacher  ...   \n",
      "1     GP   F   17       U     GT3       T     1     1  at_home     other  ...   \n",
      "2     GP   F   15       U     LE3       T     1     1  at_home     other  ...   \n",
      "3     GP   F   15       U     GT3       T     4     2   health  services  ...   \n",
      "4     GP   F   16       U     GT3       T     3     3    other     other  ...   \n",
      "\n",
      "  famrel freetime  goout  Dalc  Walc health absences  G1  G2  G3  \n",
      "0      4        3      4     1     1      3        6   5   6   6  \n",
      "1      5        3      3     1     1      3        4   5   5   6  \n",
      "2      4        3      2     2     3      3       10   7   8  10  \n",
      "3      3        2      2     1     1      5        2  15  14  15  \n",
      "4      4        3      2     1     2      5        4   6  10  10  \n",
      "\n",
      "[5 rows x 33 columns]\n"
     ]
    }
   ],
   "source": [
    "print(Student.head())"
   ]
  },
  {
   "cell_type": "code",
   "execution_count": 7,
   "id": "9bf37dd6-b868-4425-a1eb-3307499ec770",
   "metadata": {
    "tags": []
   },
   "outputs": [
    {
     "name": "stdout",
     "output_type": "stream",
     "text": [
      "<class 'pandas.core.frame.DataFrame'>\n",
      "RangeIndex: 395 entries, 0 to 394\n",
      "Data columns (total 33 columns):\n",
      " #   Column      Non-Null Count  Dtype \n",
      "---  ------      --------------  ----- \n",
      " 0   school      395 non-null    object\n",
      " 1   sex         395 non-null    object\n",
      " 2   age         395 non-null    int64 \n",
      " 3   address     395 non-null    object\n",
      " 4   famsize     395 non-null    object\n",
      " 5   Pstatus     395 non-null    object\n",
      " 6   Medu        395 non-null    int64 \n",
      " 7   Fedu        395 non-null    int64 \n",
      " 8   Mjob        395 non-null    object\n",
      " 9   Fjob        395 non-null    object\n",
      " 10  reason      395 non-null    object\n",
      " 11  guardian    395 non-null    object\n",
      " 12  traveltime  395 non-null    int64 \n",
      " 13  studytime   395 non-null    int64 \n",
      " 14  failures    395 non-null    int64 \n",
      " 15  schoolsup   395 non-null    object\n",
      " 16  famsup      395 non-null    object\n",
      " 17  paid        395 non-null    object\n",
      " 18  activities  395 non-null    object\n",
      " 19  nursery     395 non-null    object\n",
      " 20  higher      395 non-null    object\n",
      " 21  internet    395 non-null    object\n",
      " 22  romantic    395 non-null    object\n",
      " 23  famrel      395 non-null    int64 \n",
      " 24  freetime    395 non-null    int64 \n",
      " 25  goout       395 non-null    int64 \n",
      " 26  Dalc        395 non-null    int64 \n",
      " 27  Walc        395 non-null    int64 \n",
      " 28  health      395 non-null    int64 \n",
      " 29  absences    395 non-null    int64 \n",
      " 30  G1          395 non-null    int64 \n",
      " 31  G2          395 non-null    int64 \n",
      " 32  G3          395 non-null    int64 \n",
      "dtypes: int64(16), object(17)\n",
      "memory usage: 102.0+ KB\n",
      "None\n"
     ]
    }
   ],
   "source": [
    "print(Student.info())"
   ]
  },
  {
   "cell_type": "markdown",
   "id": "df6b64cd-3780-41bd-a2a8-79dc48bfd9de",
   "metadata": {
    "tags": []
   },
   "source": [
    "## Adding an Index Column and displaying its shape"
   ]
  },
  {
   "cell_type": "code",
   "execution_count": 8,
   "id": "b054dfee-0e73-4af5-baf0-131816c8a153",
   "metadata": {
    "tags": []
   },
   "outputs": [],
   "source": [
    "# Creating a new column called 'Index' in the bank_train dataframe\n",
    "Student['index'] = pd.Series(range(0,394))"
   ]
  },
  {
   "cell_type": "code",
   "execution_count": 9,
   "id": "15fec66d-e7d4-4613-9be6-91a47bedafc9",
   "metadata": {
    "tags": []
   },
   "outputs": [
    {
     "data": {
      "text/plain": [
       "(395, 34)"
      ]
     },
     "execution_count": 9,
     "metadata": {},
     "output_type": "execute_result"
    }
   ],
   "source": [
    "Student.shape # Check the shape of the object"
   ]
  },
  {
   "cell_type": "code",
   "execution_count": 10,
   "id": "62e68a96-11a1-4e5e-b1ce-e0a2ca9ee7e5",
   "metadata": {
    "tags": []
   },
   "outputs": [
    {
     "name": "stdout",
     "output_type": "stream",
     "text": [
      "  school sex  age address famsize Pstatus  Medu  Fedu     Mjob      Fjob  ...  \\\n",
      "0     GP   F   18       U     GT3       A     4     4  at_home   teacher  ...   \n",
      "1     GP   F   17       U     GT3       T     1     1  at_home     other  ...   \n",
      "2     GP   F   15       U     LE3       T     1     1  at_home     other  ...   \n",
      "3     GP   F   15       U     GT3       T     4     2   health  services  ...   \n",
      "4     GP   F   16       U     GT3       T     3     3    other     other  ...   \n",
      "\n",
      "  freetime goout  Dalc  Walc  health absences  G1  G2  G3 index  \n",
      "0        3     4     1     1       3        6   5   6   6   0.0  \n",
      "1        3     3     1     1       3        4   5   5   6   1.0  \n",
      "2        3     2     2     3       3       10   7   8  10   2.0  \n",
      "3        2     2     1     1       5        2  15  14  15   3.0  \n",
      "4        3     2     1     2       5        4   6  10  10   4.0  \n",
      "\n",
      "[5 rows x 34 columns]\n"
     ]
    }
   ],
   "source": [
    "print(Student.head())"
   ]
  },
  {
   "cell_type": "code",
   "execution_count": 11,
   "id": "dfe7039f-5693-4678-a7f9-a9f7291c1154",
   "metadata": {
    "tags": []
   },
   "outputs": [
    {
     "name": "stdout",
     "output_type": "stream",
     "text": [
      "[ 6  4 10  2  0 16 14  7  8 25 12 54 18 26 20 56 24 28  5 13 15 22  3 21\n",
      "  1 75 30 19  9 11 38 40 23 17]\n"
     ]
    }
   ],
   "source": [
    "#  Printing unique values of absences\n",
    "print(Student['absences'].unique())"
   ]
  },
  {
   "cell_type": "code",
   "execution_count": 12,
   "id": "b3bdadd3-000f-4f89-a888-8d78c2083cd7",
   "metadata": {
    "tags": []
   },
   "outputs": [],
   "source": [
    "# Replace all absences = 75 for zero\n",
    "Student['absences'] = Student['absences'].replace({75: 0})"
   ]
  },
  {
   "cell_type": "code",
   "execution_count": 13,
   "id": "2c253092-a5c5-4ed9-b7da-1b0949fe5890",
   "metadata": {
    "tags": []
   },
   "outputs": [
    {
     "data": {
      "text/plain": [
       "<Axes: title={'center': 'Histogram of absences'}, ylabel='Frequency'>"
      ]
     },
     "execution_count": 13,
     "metadata": {},
     "output_type": "execute_result"
    },
    {
     "data": {
      "image/png": "[encoded data removed]",
      "text/plain": [
       "<Figure size 640x480 with 1 Axes>"
      ]
     },
     "metadata": {},
     "output_type": "display_data"
    }
   ],
   "source": [
    "Student['absences'].plot(kind = 'hist', title = 'Histogram of absences')"
   ]
  },
  {
   "cell_type": "markdown",
   "id": "5ef1c0ff-ee44-4afe-9bb4-a345af17f757",
   "metadata": {},
   "source": [
    "## Reexpression of categorical data as numeric"
   ]
  },
  {
   "cell_type": "code",
   "execution_count": 14,
   "id": "93cfba20-30d3-41b1-9285-72cb178c75e7",
   "metadata": {
    "tags": []
   },
   "outputs": [],
   "source": [
    "# Replicate the activities variable \n",
    "Student[\"activities_numeric\"] = Student['activities']"
   ]
  },
  {
   "cell_type": "code",
   "execution_count": 18,
   "id": "f751743a-00d5-4cbe-b7e7-be027e73ba01",
   "metadata": {
    "tags": []
   },
   "outputs": [
    {
     "name": "stdout",
     "output_type": "stream",
     "text": [
      "    school sex  age address famsize Pstatus  Medu  Fedu      Mjob      Fjob  \\\n",
      "390     MS   M   20       U     LE3       A     2     2  services  services   \n",
      "391     MS   M   17       U     LE3       T     3     1  services  services   \n",
      "392     MS   M   21       R     GT3       T     1     1     other     other   \n",
      "393     MS   M   18       R     LE3       T     3     2  services     other   \n",
      "394     MS   M   19       U     LE3       T     1     1     other   at_home   \n",
      "\n",
      "     ... goout Dalc  Walc  health  absences  G1  G2  G3  index  \\\n",
      "390  ...     4    4     5       4        11   9   9   9  390.0   \n",
      "391  ...     5    3     4       2         3  14  16  16  391.0   \n",
      "392  ...     3    3     3       3         3  10   8   7  392.0   \n",
      "393  ...     1    3     4       5         0  11  12  10  393.0   \n",
      "394  ...     3    3     3       5         5   8   9   9    NaN   \n",
      "\n",
      "    activities_numeric  \n",
      "390                 no  \n",
      "391                 no  \n",
      "392                 no  \n",
      "393                 no  \n",
      "394                 no  \n",
      "\n",
      "[5 rows x 35 columns]\n"
     ]
    }
   ],
   "source": [
    "print(Student.tail())"
   ]
  },
  {
   "cell_type": "code",
   "execution_count": 16,
   "id": "af493899-212e-40cd-bcd2-2d7bf7a39187",
   "metadata": {
    "tags": []
   },
   "outputs": [
    {
     "name": "stdout",
     "output_type": "stream",
     "text": [
      "['no' 'yes']\n"
     ]
    }
   ],
   "source": [
    "# Inspect the unique values for activities\n",
    "print(Student['activities'].unique())"
   ]
  },
  {
   "cell_type": "code",
   "execution_count": 17,
   "id": "4d54f0a3-0a93-43a2-bdb3-e94ba2d87443",
   "metadata": {
    "tags": []
   },
   "outputs": [
    {
     "data": {
      "text/plain": [
       "{'activities_numeric': {'no': 0, 'yes': 1}}"
      ]
     },
     "execution_count": 17,
     "metadata": {},
     "output_type": "execute_result"
    }
   ],
   "source": [
    "# Create a dictionary with the numeric values equivalences\n",
    "dict_act = {\"activities_numeric\": {\"no\":0, \"yes\":1}}\n",
    "dict_act"
   ]
  },
  {
   "cell_type": "code",
   "execution_count": 19,
   "id": "cdd967eb-f12c-4f4e-884e-4f7511edc1d5",
   "metadata": {
    "tags": []
   },
   "outputs": [],
   "source": [
    "# Make the replacement\n",
    "Student.replace(dict_act, inplace=True)"
   ]
  },
  {
   "cell_type": "markdown",
   "id": "f0aaa75f-3393-4e5a-9c45-4bc5d2f58789",
   "metadata": {},
   "source": [
    "## Standardizing the numeric fields"
   ]
  },
  {
   "cell_type": "code",
   "execution_count": 20,
   "id": "ab1e66c1-0f10-4207-af14-b206eccef578",
   "metadata": {
    "tags": []
   },
   "outputs": [],
   "source": [
    "from scipy import stats # Import the scipy module"
   ]
  },
  {
   "cell_type": "code",
   "execution_count": 21,
   "id": "f5d6dbe0-075d-40e5-991a-03b8be7df05f",
   "metadata": {
    "tags": []
   },
   "outputs": [],
   "source": [
    "# Number of standard deviations above the mean\n",
    "Student[\"age_z\"] = stats.zscore(Student['age'])"
   ]
  },
  {
   "cell_type": "code",
   "execution_count": 22,
   "id": "e1491db2-d306-4274-84bc-7d846c79322d",
   "metadata": {
    "tags": []
   },
   "outputs": [
    {
     "data": {
      "text/plain": [
       "<Axes: title={'center': 'Histogram of age normalized'}, ylabel='Frequency'>"
      ]
     },
     "execution_count": 22,
     "metadata": {},
     "output_type": "execute_result"
    },
    {
     "data": {
      "image/png": "[encoded data removed]",
      "text/plain": [
       "<Figure size 640x480 with 1 Axes>"
      ]
     },
     "metadata": {},
     "output_type": "display_data"
    }
   ],
   "source": [
    "Student['age_z'].plot(kind = 'hist', title = 'Histogram of age normalized')"
   ]
  },
  {
   "cell_type": "markdown",
   "id": "75ab1e49-549c-49cb-86e0-9e0da4dee2c3",
   "metadata": {},
   "source": [
    "## Identifying outliers"
   ]
  },
  {
   "cell_type": "markdown",
   "id": "cf63154f-62bf-493c-87e7-8b12333312fc",
   "metadata": {},
   "source": [
    "### A data value is an outlier if its z‐value is either greater than 3, or less than −3"
   ]
  },
  {
   "cell_type": "code",
   "execution_count": 23,
   "id": "0c5c9e9b-ea15-4723-a03d-b6eac85b13f9",
   "metadata": {
    "tags": []
   },
   "outputs": [
    {
     "data": {
      "text/html": [
       "<div>\n",
       "<style scoped>\n",
       "    .dataframe tbody tr th:only-of-type {\n",
       "        vertical-align: middle;\n",
       "    }\n",
       "\n",
       "    .dataframe tbody tr th {\n",
       "        vertical-align: top;\n",
       "    }\n",
       "\n",
       "    .dataframe thead th {\n",
       "        text-align: right;\n",
       "    }\n",
       "</style>\n",
       "<table border=\"1\" class=\"dataframe\">\n",
       "  <thead>\n",
       "    <tr style=\"text-align: right;\">\n",
       "      <th></th>\n",
       "      <th>school</th>\n",
       "      <th>sex</th>\n",
       "      <th>age</th>\n",
       "      <th>address</th>\n",
       "      <th>famsize</th>\n",
       "      <th>Pstatus</th>\n",
       "      <th>Medu</th>\n",
       "      <th>Fedu</th>\n",
       "      <th>Mjob</th>\n",
       "      <th>Fjob</th>\n",
       "      <th>...</th>\n",
       "      <th>Dalc</th>\n",
       "      <th>Walc</th>\n",
       "      <th>health</th>\n",
       "      <th>absences</th>\n",
       "      <th>G1</th>\n",
       "      <th>G2</th>\n",
       "      <th>G3</th>\n",
       "      <th>index</th>\n",
       "      <th>activities_numeric</th>\n",
       "      <th>age_z</th>\n",
       "    </tr>\n",
       "  </thead>\n",
       "  <tbody>\n",
       "    <tr>\n",
       "      <th>247</th>\n",
       "      <td>GP</td>\n",
       "      <td>M</td>\n",
       "      <td>22</td>\n",
       "      <td>U</td>\n",
       "      <td>GT3</td>\n",
       "      <td>T</td>\n",
       "      <td>3</td>\n",
       "      <td>1</td>\n",
       "      <td>services</td>\n",
       "      <td>services</td>\n",
       "      <td>...</td>\n",
       "      <td>5</td>\n",
       "      <td>5</td>\n",
       "      <td>1</td>\n",
       "      <td>16</td>\n",
       "      <td>6</td>\n",
       "      <td>8</td>\n",
       "      <td>8</td>\n",
       "      <td>247.0</td>\n",
       "      <td>0</td>\n",
       "      <td>4.161713</td>\n",
       "    </tr>\n",
       "    <tr>\n",
       "      <th>392</th>\n",
       "      <td>MS</td>\n",
       "      <td>M</td>\n",
       "      <td>21</td>\n",
       "      <td>R</td>\n",
       "      <td>GT3</td>\n",
       "      <td>T</td>\n",
       "      <td>1</td>\n",
       "      <td>1</td>\n",
       "      <td>other</td>\n",
       "      <td>other</td>\n",
       "      <td>...</td>\n",
       "      <td>3</td>\n",
       "      <td>3</td>\n",
       "      <td>3</td>\n",
       "      <td>3</td>\n",
       "      <td>10</td>\n",
       "      <td>8</td>\n",
       "      <td>7</td>\n",
       "      <td>392.0</td>\n",
       "      <td>0</td>\n",
       "      <td>3.377047</td>\n",
       "    </tr>\n",
       "  </tbody>\n",
       "</table>\n",
       "<p>2 rows × 36 columns</p>\n",
       "</div>"
      ],
      "text/plain": [
       "    school sex  age address famsize Pstatus  Medu  Fedu      Mjob      Fjob  \\\n",
       "247     GP   M   22       U     GT3       T     3     1  services  services   \n",
       "392     MS   M   21       R     GT3       T     1     1     other     other   \n",
       "\n",
       "     ... Dalc Walc  health  absences  G1 G2 G3  index activities_numeric  \\\n",
       "247  ...    5    5       1        16   6  8  8  247.0                  0   \n",
       "392  ...    3    3       3         3  10  8  7  392.0                  0   \n",
       "\n",
       "        age_z  \n",
       "247  4.161713  \n",
       "392  3.377047  \n",
       "\n",
       "[2 rows x 36 columns]"
      ]
     },
     "execution_count": 23,
     "metadata": {},
     "output_type": "execute_result"
    }
   ],
   "source": [
    "Student.query('age_z > 3 | age_z < -3') # Listing the outliers"
   ]
  },
  {
   "cell_type": "code",
   "execution_count": 25,
   "id": "7ce6d9c8-0fcf-44a6-b096-8d5eee515e9a",
   "metadata": {
    "tags": []
   },
   "outputs": [],
   "source": [
    "# Create a new data set with outliers and print\n",
    "Student_outliers = Student.query('age_z > 3 | age_z < -3')"
   ]
  },
  {
   "cell_type": "code",
   "execution_count": 26,
   "id": "eefef67a-fddb-498c-96a4-52ca73cffab1",
   "metadata": {
    "tags": []
   },
   "outputs": [
    {
     "name": "stdout",
     "output_type": "stream",
     "text": [
      "    school sex  age address famsize Pstatus  Medu  Fedu      Mjob      Fjob  \\\n",
      "247     GP   M   22       U     GT3       T     3     1  services  services   \n",
      "392     MS   M   21       R     GT3       T     1     1     other     other   \n",
      "\n",
      "     ... Dalc Walc  health  absences  G1 G2 G3  index activities_numeric  \\\n",
      "247  ...    5    5       1        16   6  8  8  247.0                  0   \n",
      "392  ...    3    3       3         3  10  8  7  392.0                  0   \n",
      "\n",
      "        age_z  \n",
      "247  4.161713  \n",
      "392  3.377047  \n",
      "\n",
      "[2 rows x 36 columns]\n"
     ]
    }
   ],
   "source": [
    "print(Student_outliers.head())"
   ]
  },
  {
   "cell_type": "code",
   "execution_count": 27,
   "id": "6d4b1db4-71da-4089-acae-15b377431369",
   "metadata": {
    "tags": []
   },
   "outputs": [],
   "source": [
    "# Sorting the data\n",
    "Student_sort = Student.sort_values(['age_z'], ascending = False)"
   ]
  },
  {
   "cell_type": "code",
   "execution_count": 28,
   "id": "5510289e-6e49-4c0a-bf02-d72b963d2520",
   "metadata": {
    "tags": []
   },
   "outputs": [
    {
     "name": "stdout",
     "output_type": "stream",
     "text": [
      "     age sex  absences\n",
      "247   22   M        16\n",
      "392   21   M         3\n",
      "390   20   M        11\n",
      "306   20   M         0\n",
      "376   20   F         4\n",
      "394   19   M         5\n",
      "310   19   F         0\n",
      "340   19   F         4\n",
      "336   19   F        12\n",
      "315   19   F        40\n",
      "314   19   F        14\n",
      "313   19   F        22\n",
      "127   19   F         2\n",
      "311   19   F        20\n",
      "307   19   M        38\n"
     ]
    }
   ],
   "source": [
    "print(Student_sort[['age','sex','absences']].head(n=15))   # To see only two specific columns"
   ]
  }
 ],
 "metadata": {
  "kernelspec": {
   "display_name": "Python 3 (ipykernel)",
   "language": "python",
   "name": "python3"
  },
  "language_info": {
   "codemirror_mode": {
    "name": "ipython",
    "version": 3
   },
   "file_extension": ".py",
   "mimetype": "text/x-python",
   "name": "python",
   "nbconvert_exporter": "python",
   "pygments_lexer": "ipython3",
   "version": "3.11.5"
  }
 },
 "nbformat": 4,
 "nbformat_minor": 5
}
