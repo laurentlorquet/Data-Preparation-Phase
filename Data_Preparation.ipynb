{
 "cells": [
  {
   "cell_type": "markdown",
   "id": "a0417d08-c83b-40a6-871d-6b39bebe708f",
   "metadata": {},
   "source": [
    "# Lecture 2 - Data Preparation Phase"
   ]
  },
  {
   "cell_type": "markdown",
   "id": "43e74b45-0f36-446c-9066-2571e64fac98",
   "metadata": {},
   "source": [
    "Dataset: BANK MARKETING DATASET\n",
    "\n",
    "Description: \n",
    "The data is related with direct marketing campaigns (phone calls) of a Portuguese banking institution. \n",
    "The classification goal is to predict if the client will subscribe a term deposit (variable y).\n",
    "\n",
    "https://archive.ics.uci.edu/datasets\n",
    "Search -> Bank Marketing -> Download\n",
    "https://archive.ics.uci.edu/dataset/222/bank+marketing\n"
   ]
  },
  {
   "cell_type": "code",
   "execution_count": 2,
   "id": "37b5e24f-ff90-466d-ad17-814f35e27c5e",
   "metadata": {
    "tags": []
   },
   "outputs": [],
   "source": [
    "import pandas as pd   # Import the pandas module"
   ]
  },
  {
   "cell_type": "code",
   "execution_count": 6,
   "id": "8461d767-8315-43da-9ec9-754f0bc43c32",
   "metadata": {
    "tags": []
   },
   "outputs": [],
   "source": [
    "# Read the csv file\n",
    "bank = pd.read_csv('bank-additional-full.csv',sep=';') "
   ]
  },
  {
   "cell_type": "code",
   "execution_count": 8,
   "id": "d9284c53-e7ee-49bb-a5d1-63e5991fb66a",
   "metadata": {
    "tags": []
   },
   "outputs": [
    {
     "data": {
      "text/plain": [
       "(41188, 21)"
      ]
     },
     "execution_count": 8,
     "metadata": {},
     "output_type": "execute_result"
    }
   ],
   "source": [
    "bank.shape # Check the shape of the object"
   ]
  },
  {
   "cell_type": "code",
   "execution_count": 9,
   "id": "6948be89-e51b-4d5e-8986-36a0b7162bdb",
   "metadata": {
    "tags": []
   },
   "outputs": [
    {
     "name": "stdout",
     "output_type": "stream",
     "text": [
      "    age          job  marital            education  default housing loan  \\\n",
      "0    56    housemaid  married             basic.4y       no      no   no   \n",
      "1    57     services  married          high.school  unknown      no   no   \n",
      "2    37     services  married          high.school       no     yes   no   \n",
      "3    40       admin.  married             basic.6y       no      no   no   \n",
      "4    56     services  married          high.school       no      no  yes   \n",
      "5    45     services  married             basic.9y  unknown      no   no   \n",
      "6    59       admin.  married  professional.course       no      no   no   \n",
      "7    41  blue-collar  married              unknown  unknown      no   no   \n",
      "8    24   technician   single  professional.course       no     yes   no   \n",
      "9    25     services   single          high.school       no     yes   no   \n",
      "10   41  blue-collar  married              unknown  unknown      no   no   \n",
      "\n",
      "      contact month day_of_week  ...  campaign  pdays  previous     poutcome  \\\n",
      "0   telephone   may         mon  ...         1    999         0  nonexistent   \n",
      "1   telephone   may         mon  ...         1    999         0  nonexistent   \n",
      "2   telephone   may         mon  ...         1    999         0  nonexistent   \n",
      "3   telephone   may         mon  ...         1    999         0  nonexistent   \n",
      "4   telephone   may         mon  ...         1    999         0  nonexistent   \n",
      "5   telephone   may         mon  ...         1    999         0  nonexistent   \n",
      "6   telephone   may         mon  ...         1    999         0  nonexistent   \n",
      "7   telephone   may         mon  ...         1    999         0  nonexistent   \n",
      "8   telephone   may         mon  ...         1    999         0  nonexistent   \n",
      "9   telephone   may         mon  ...         1    999         0  nonexistent   \n",
      "10  telephone   may         mon  ...         1    999         0  nonexistent   \n",
      "\n",
      "   emp.var.rate  cons.price.idx  cons.conf.idx  euribor3m  nr.employed   y  \n",
      "0           1.1          93.994          -36.4      4.857       5191.0  no  \n",
      "1           1.1          93.994          -36.4      4.857       5191.0  no  \n",
      "2           1.1          93.994          -36.4      4.857       5191.0  no  \n",
      "3           1.1          93.994          -36.4      4.857       5191.0  no  \n",
      "4           1.1          93.994          -36.4      4.857       5191.0  no  \n",
      "5           1.1          93.994          -36.4      4.857       5191.0  no  \n",
      "6           1.1          93.994          -36.4      4.857       5191.0  no  \n",
      "7           1.1          93.994          -36.4      4.857       5191.0  no  \n",
      "8           1.1          93.994          -36.4      4.857       5191.0  no  \n",
      "9           1.1          93.994          -36.4      4.857       5191.0  no  \n",
      "10          1.1          93.994          -36.4      4.857       5191.0  no  \n",
      "\n",
      "[11 rows x 21 columns]\n"
     ]
    }
   ],
   "source": [
    "print(bank.head(n = 11))"
   ]
  },
  {
   "cell_type": "code",
   "execution_count": 8,
   "id": "c5583cd2-ccaa-40ab-82ac-0884fb6f3fd4",
   "metadata": {},
   "outputs": [
    {
     "name": "stdout",
     "output_type": "stream",
     "text": [
      "       age          job  marital            education default housing loan  \\\n",
      "41183   73      retired  married  professional.course      no     yes   no   \n",
      "41184   46  blue-collar  married  professional.course      no      no   no   \n",
      "41185   56      retired  married    university.degree      no     yes   no   \n",
      "41186   44   technician  married  professional.course      no      no   no   \n",
      "41187   74      retired  married  professional.course      no     yes   no   \n",
      "\n",
      "        contact month day_of_week  ...  campaign  pdays  previous  \\\n",
      "41183  cellular   nov         fri  ...         1    999         0   \n",
      "41184  cellular   nov         fri  ...         1    999         0   \n",
      "41185  cellular   nov         fri  ...         2    999         0   \n",
      "41186  cellular   nov         fri  ...         1    999         0   \n",
      "41187  cellular   nov         fri  ...         3    999         1   \n",
      "\n",
      "          poutcome emp.var.rate  cons.price.idx  cons.conf.idx  euribor3m  \\\n",
      "41183  nonexistent         -1.1          94.767          -50.8      1.028   \n",
      "41184  nonexistent         -1.1          94.767          -50.8      1.028   \n",
      "41185  nonexistent         -1.1          94.767          -50.8      1.028   \n",
      "41186  nonexistent         -1.1          94.767          -50.8      1.028   \n",
      "41187      failure         -1.1          94.767          -50.8      1.028   \n",
      "\n",
      "       nr.employed    y  \n",
      "41183       4963.6  yes  \n",
      "41184       4963.6   no  \n",
      "41185       4963.6   no  \n",
      "41186       4963.6  yes  \n",
      "41187       4963.6   no  \n",
      "\n",
      "[5 rows x 21 columns]\n"
     ]
    }
   ],
   "source": [
    "print(bank.tail())"
   ]
  },
  {
   "cell_type": "code",
   "execution_count": 9,
   "id": "c9a98298-0cbe-4083-999a-8e6842d9239b",
   "metadata": {},
   "outputs": [
    {
     "name": "stdout",
     "output_type": "stream",
     "text": [
      "               age      duration      campaign         pdays      previous  \\\n",
      "count  41188.00000  41188.000000  41188.000000  41188.000000  41188.000000   \n",
      "mean      40.02406    258.285010      2.567593    962.475454      0.172963   \n",
      "std       10.42125    259.279249      2.770014    186.910907      0.494901   \n",
      "min       17.00000      0.000000      1.000000      0.000000      0.000000   \n",
      "25%       32.00000    102.000000      1.000000    999.000000      0.000000   \n",
      "50%       38.00000    180.000000      2.000000    999.000000      0.000000   \n",
      "75%       47.00000    319.000000      3.000000    999.000000      0.000000   \n",
      "max       98.00000   4918.000000     56.000000    999.000000      7.000000   \n",
      "\n",
      "       emp.var.rate  cons.price.idx  cons.conf.idx     euribor3m   nr.employed  \n",
      "count  41188.000000    41188.000000   41188.000000  41188.000000  41188.000000  \n",
      "mean       0.081886       93.575664     -40.502600      3.621291   5167.035911  \n",
      "std        1.570960        0.578840       4.628198      1.734447     72.251528  \n",
      "min       -3.400000       92.201000     -50.800000      0.634000   4963.600000  \n",
      "25%       -1.800000       93.075000     -42.700000      1.344000   5099.100000  \n",
      "50%        1.100000       93.749000     -41.800000      4.857000   5191.000000  \n",
      "75%        1.400000       93.994000     -36.400000      4.961000   5228.100000  \n",
      "max        1.400000       94.767000     -26.900000      5.045000   5228.100000  \n"
     ]
    }
   ],
   "source": [
    "print(bank.describe())"
   ]
  },
  {
   "cell_type": "code",
   "execution_count": 10,
   "id": "0b228949-036b-426e-acc2-1be09dd5f65a",
   "metadata": {},
   "outputs": [
    {
     "name": "stdout",
     "output_type": "stream",
     "text": [
      "<class 'pandas.core.frame.DataFrame'>\n",
      "RangeIndex: 41188 entries, 0 to 41187\n",
      "Data columns (total 21 columns):\n",
      " #   Column          Non-Null Count  Dtype  \n",
      "---  ------          --------------  -----  \n",
      " 0   age             41188 non-null  int64  \n",
      " 1   job             41188 non-null  object \n",
      " 2   marital         41188 non-null  object \n",
      " 3   education       41188 non-null  object \n",
      " 4   default         41188 non-null  object \n",
      " 5   housing         41188 non-null  object \n",
      " 6   loan            41188 non-null  object \n",
      " 7   contact         41188 non-null  object \n",
      " 8   month           41188 non-null  object \n",
      " 9   day_of_week     41188 non-null  object \n",
      " 10  duration        41188 non-null  int64  \n",
      " 11  campaign        41188 non-null  int64  \n",
      " 12  pdays           41188 non-null  int64  \n",
      " 13  previous        41188 non-null  int64  \n",
      " 14  poutcome        41188 non-null  object \n",
      " 15  emp.var.rate    41188 non-null  float64\n",
      " 16  cons.price.idx  41188 non-null  float64\n",
      " 17  cons.conf.idx   41188 non-null  float64\n",
      " 18  euribor3m       41188 non-null  float64\n",
      " 19  nr.employed     41188 non-null  float64\n",
      " 20  y               41188 non-null  object \n",
      "dtypes: float64(5), int64(5), object(11)\n",
      "memory usage: 6.6+ MB\n",
      "None\n"
     ]
    }
   ],
   "source": [
    "print(bank.info())"
   ]
  },
  {
   "cell_type": "markdown",
   "id": "dd79cf3b-1576-41da-b61a-45841b4a5195",
   "metadata": {},
   "source": [
    "## Adding an index field"
   ]
  },
  {
   "cell_type": "code",
   "execution_count": 12,
   "id": "47edbfac-ea39-44e8-878c-a8331c56fef2",
   "metadata": {},
   "outputs": [],
   "source": [
    "# Creating a new column called 'Index' in the bank_train dataframe\n",
    "bank['index'] = pd.Series(range(0,41187))"
   ]
  },
  {
   "cell_type": "code",
   "execution_count": 13,
   "id": "79a13326-10b2-480c-b4bc-800a49cffee3",
   "metadata": {},
   "outputs": [
    {
     "name": "stdout",
     "output_type": "stream",
     "text": [
      "   age        job  marital    education  default housing loan    contact  \\\n",
      "0   56  housemaid  married     basic.4y       no      no   no  telephone   \n",
      "1   57   services  married  high.school  unknown      no   no  telephone   \n",
      "2   37   services  married  high.school       no     yes   no  telephone   \n",
      "3   40     admin.  married     basic.6y       no      no   no  telephone   \n",
      "4   56   services  married  high.school       no      no  yes  telephone   \n",
      "\n",
      "  month day_of_week  ...  pdays  previous     poutcome  emp.var.rate  \\\n",
      "0   may         mon  ...    999         0  nonexistent           1.1   \n",
      "1   may         mon  ...    999         0  nonexistent           1.1   \n",
      "2   may         mon  ...    999         0  nonexistent           1.1   \n",
      "3   may         mon  ...    999         0  nonexistent           1.1   \n",
      "4   may         mon  ...    999         0  nonexistent           1.1   \n",
      "\n",
      "  cons.price.idx  cons.conf.idx  euribor3m  nr.employed   y  index  \n",
      "0         93.994          -36.4      4.857       5191.0  no    0.0  \n",
      "1         93.994          -36.4      4.857       5191.0  no    1.0  \n",
      "2         93.994          -36.4      4.857       5191.0  no    2.0  \n",
      "3         93.994          -36.4      4.857       5191.0  no    3.0  \n",
      "4         93.994          -36.4      4.857       5191.0  no    4.0  \n",
      "\n",
      "[5 rows x 22 columns]\n"
     ]
    }
   ],
   "source": [
    "print(bank.head())"
   ]
  },
  {
   "cell_type": "code",
   "execution_count": 14,
   "id": "852f00b7-996a-4f55-93b9-2e5e74d24809",
   "metadata": {},
   "outputs": [
    {
     "data": {
      "text/plain": [
       "(41188, 22)"
      ]
     },
     "execution_count": 14,
     "metadata": {},
     "output_type": "execute_result"
    }
   ],
   "source": [
    "bank.shape # Check the shape of the object"
   ]
  },
  {
   "cell_type": "code",
   "execution_count": 15,
   "id": "ded866ec-b2be-4c4b-bdc8-8fb2739970ab",
   "metadata": {},
   "outputs": [
    {
     "name": "stdout",
     "output_type": "stream",
     "text": [
      "   age        job  marital    education  default housing loan    contact  \\\n",
      "0   56  housemaid  married     basic.4y       no      no   no  telephone   \n",
      "1   57   services  married  high.school  unknown      no   no  telephone   \n",
      "2   37   services  married  high.school       no     yes   no  telephone   \n",
      "3   40     admin.  married     basic.6y       no      no   no  telephone   \n",
      "4   56   services  married  high.school       no      no  yes  telephone   \n",
      "\n",
      "  month day_of_week  ...  pdays  previous     poutcome  emp.var.rate  \\\n",
      "0   may         mon  ...    999         0  nonexistent           1.1   \n",
      "1   may         mon  ...    999         0  nonexistent           1.1   \n",
      "2   may         mon  ...    999         0  nonexistent           1.1   \n",
      "3   may         mon  ...    999         0  nonexistent           1.1   \n",
      "4   may         mon  ...    999         0  nonexistent           1.1   \n",
      "\n",
      "  cons.price.idx  cons.conf.idx  euribor3m  nr.employed   y  index  \n",
      "0         93.994          -36.4      4.857       5191.0  no    0.0  \n",
      "1         93.994          -36.4      4.857       5191.0  no    1.0  \n",
      "2         93.994          -36.4      4.857       5191.0  no    2.0  \n",
      "3         93.994          -36.4      4.857       5191.0  no    3.0  \n",
      "4         93.994          -36.4      4.857       5191.0  no    4.0  \n",
      "\n",
      "[5 rows x 22 columns]\n"
     ]
    }
   ],
   "source": [
    "print(bank.head())"
   ]
  },
  {
   "cell_type": "markdown",
   "id": "add47273-f5fe-45ca-bcad-027de4019df3",
   "metadata": {},
   "source": [
    "## Change Misleading Field Values"
   ]
  },
  {
   "cell_type": "code",
   "execution_count": 17,
   "id": "6f661203-93b1-4ecc-bd44-2cea1cf08d6c",
   "metadata": {},
   "outputs": [
    {
     "name": "stdout",
     "output_type": "stream",
     "text": [
      "[999   6   4   3   5   1   0  10   7   8   9  11   2  12  13  14  15  16\n",
      "  21  17  18  22  25  26  19  27  20]\n"
     ]
    }
   ],
   "source": [
    "# The pdays field has misleading values\n",
    "print(bank['pdays'].unique())"
   ]
  },
  {
   "cell_type": "code",
   "execution_count": 18,
   "id": "21da61d0-0219-42c9-955e-8c8c273b87fe",
   "metadata": {},
   "outputs": [],
   "source": [
    "import numpy as np"
   ]
  },
  {
   "cell_type": "code",
   "execution_count": 19,
   "id": "d3238c65-82b5-401e-b872-7ff41ca4589f",
   "metadata": {},
   "outputs": [
    {
     "data": {
      "text/plain": [
       "nan"
      ]
     },
     "execution_count": 19,
     "metadata": {},
     "output_type": "execute_result"
    }
   ],
   "source": [
    "np.NaN   # Not a number"
   ]
  },
  {
   "cell_type": "code",
   "execution_count": 20,
   "id": "92f71580-33dd-4aea-ae50-c5754087e402",
   "metadata": {},
   "outputs": [],
   "source": [
    "# Replace all pdays = 999 for np.NaN\n",
    "bank['pdays'] = bank['pdays'].replace({999: np.NaN})"
   ]
  },
  {
   "cell_type": "code",
   "execution_count": 21,
   "id": "1b2c61e7-f671-42c4-95a6-a486ac65ebff",
   "metadata": {},
   "outputs": [
    {
     "name": "stdout",
     "output_type": "stream",
     "text": [
      "[nan  6.  4.  3.  5.  1.  0. 10.  7.  8.  9. 11.  2. 12. 13. 14. 15. 16.\n",
      " 21. 17. 18. 22. 25. 26. 19. 27. 20.]\n"
     ]
    }
   ],
   "source": [
    "print(bank['pdays'].unique())"
   ]
  },
  {
   "cell_type": "code",
   "execution_count": 22,
   "id": "dcb2617f-7acf-4f8c-8300-b34e43bd3c1c",
   "metadata": {},
   "outputs": [
    {
     "data": {
      "text/plain": [
       "<Axes: title={'center': 'Histogram of days since last contact'}, ylabel='Frequency'>"
      ]
     },
     "execution_count": 22,
     "metadata": {},
     "output_type": "execute_result"
    },
    {
     "data": {
      "image/png": "[encoded data removed]",
      "text/plain": [
       "<Figure size 640x480 with 1 Axes>"
      ]
     },
     "metadata": {},
     "output_type": "display_data"
    }
   ],
   "source": [
    "bank['pdays'].plot(kind = 'hist', title = 'Histogram of days since last contact')"
   ]
  },
  {
   "cell_type": "markdown",
   "id": "0d87fb8c-b436-4c57-8094-558bdedce2e0",
   "metadata": {},
   "source": [
    "## Reexpression of categorical data as numeric"
   ]
  },
  {
   "cell_type": "code",
   "execution_count": 24,
   "id": "21119e79-7e1e-4b4f-bb80-943667e207d7",
   "metadata": {},
   "outputs": [],
   "source": [
    "# Replicate the education variable \n",
    "bank[\"education_numeric\"] = bank['education']"
   ]
  },
  {
   "cell_type": "code",
   "execution_count": 25,
   "id": "bca43fab-5ce4-4d3c-8912-79f825061855",
   "metadata": {},
   "outputs": [
    {
     "name": "stdout",
     "output_type": "stream",
     "text": [
      "   age        job  marital    education  default housing loan    contact  \\\n",
      "0   56  housemaid  married     basic.4y       no      no   no  telephone   \n",
      "1   57   services  married  high.school  unknown      no   no  telephone   \n",
      "2   37   services  married  high.school       no     yes   no  telephone   \n",
      "3   40     admin.  married     basic.6y       no      no   no  telephone   \n",
      "4   56   services  married  high.school       no      no  yes  telephone   \n",
      "\n",
      "  month day_of_week  ...  previous     poutcome  emp.var.rate  cons.price.idx  \\\n",
      "0   may         mon  ...         0  nonexistent           1.1          93.994   \n",
      "1   may         mon  ...         0  nonexistent           1.1          93.994   \n",
      "2   may         mon  ...         0  nonexistent           1.1          93.994   \n",
      "3   may         mon  ...         0  nonexistent           1.1          93.994   \n",
      "4   may         mon  ...         0  nonexistent           1.1          93.994   \n",
      "\n",
      "  cons.conf.idx  euribor3m  nr.employed   y  index  education_numeric  \n",
      "0         -36.4      4.857       5191.0  no    0.0           basic.4y  \n",
      "1         -36.4      4.857       5191.0  no    1.0        high.school  \n",
      "2         -36.4      4.857       5191.0  no    2.0        high.school  \n",
      "3         -36.4      4.857       5191.0  no    3.0           basic.6y  \n",
      "4         -36.4      4.857       5191.0  no    4.0        high.school  \n",
      "\n",
      "[5 rows x 23 columns]\n"
     ]
    }
   ],
   "source": [
    "print(bank.head())"
   ]
  },
  {
   "cell_type": "code",
   "execution_count": 26,
   "id": "97be6288-c733-4a42-a83d-06ebb705c931",
   "metadata": {},
   "outputs": [
    {
     "name": "stdout",
     "output_type": "stream",
     "text": [
      "['basic.4y' 'high.school' 'basic.6y' 'basic.9y' 'professional.course'\n",
      " 'unknown' 'university.degree' 'illiterate']\n"
     ]
    }
   ],
   "source": [
    "# Inspect the unique values for the field education\n",
    "print(bank['education'].unique())"
   ]
  },
  {
   "cell_type": "code",
   "execution_count": 27,
   "id": "980f50b4-fa4b-4fbb-97ec-0f850c2aedad",
   "metadata": {},
   "outputs": [
    {
     "data": {
      "text/plain": [
       "{'education_numeric': {'illiterate': 0,\n",
       "  'basic.4y': 4,\n",
       "  'basic.6y': 6,\n",
       "  'basic.9y': 9,\n",
       "  'high.school': 12,\n",
       "  'professional.course': 12,\n",
       "  'university.degree': 16,\n",
       "  'unknown': nan}}"
      ]
     },
     "execution_count": 27,
     "metadata": {},
     "output_type": "execute_result"
    }
   ],
   "source": [
    "# Create a dictionary with the numeric values equivalences\n",
    "dict_edu = {\"education_numeric\": {\"illiterate\":0, \"basic.4y\":4, \"basic.6y\":6, \"basic.9y\": 9, \"high.school\":12, \"professional.course\":12, \"university.degree\":16, \"unknown\": np.NaN}}\n",
    "dict_edu"
   ]
  },
  {
   "cell_type": "code",
   "execution_count": 28,
   "id": "deb2a190-8e82-47c8-adaa-71f5bc2358c7",
   "metadata": {},
   "outputs": [],
   "source": [
    "# Make the replacement\n",
    "bank.replace(dict_edu, inplace=True)"
   ]
  },
  {
   "cell_type": "code",
   "execution_count": 29,
   "id": "3ad2d690-044f-471f-90ab-2f8ef38df30f",
   "metadata": {},
   "outputs": [
    {
     "name": "stdout",
     "output_type": "stream",
     "text": [
      "   age        job  marital    education  default housing loan    contact  \\\n",
      "0   56  housemaid  married     basic.4y       no      no   no  telephone   \n",
      "1   57   services  married  high.school  unknown      no   no  telephone   \n",
      "2   37   services  married  high.school       no     yes   no  telephone   \n",
      "3   40     admin.  married     basic.6y       no      no   no  telephone   \n",
      "4   56   services  married  high.school       no      no  yes  telephone   \n",
      "\n",
      "  month day_of_week  ...  previous     poutcome  emp.var.rate  cons.price.idx  \\\n",
      "0   may         mon  ...         0  nonexistent           1.1          93.994   \n",
      "1   may         mon  ...         0  nonexistent           1.1          93.994   \n",
      "2   may         mon  ...         0  nonexistent           1.1          93.994   \n",
      "3   may         mon  ...         0  nonexistent           1.1          93.994   \n",
      "4   may         mon  ...         0  nonexistent           1.1          93.994   \n",
      "\n",
      "  cons.conf.idx  euribor3m  nr.employed   y  index  education_numeric  \n",
      "0         -36.4      4.857       5191.0  no    0.0                4.0  \n",
      "1         -36.4      4.857       5191.0  no    1.0               12.0  \n",
      "2         -36.4      4.857       5191.0  no    2.0               12.0  \n",
      "3         -36.4      4.857       5191.0  no    3.0                6.0  \n",
      "4         -36.4      4.857       5191.0  no    4.0               12.0  \n",
      "\n",
      "[5 rows x 23 columns]\n"
     ]
    }
   ],
   "source": [
    "print(bank.head())"
   ]
  },
  {
   "cell_type": "markdown",
   "id": "8119e6b2-4454-45a8-b343-f33ed369c317",
   "metadata": {},
   "source": [
    "## Standardizing the numeric fields"
   ]
  },
  {
   "cell_type": "code",
   "execution_count": 31,
   "id": "6cf81464-5164-49ef-9b4b-cb5afa18c595",
   "metadata": {},
   "outputs": [],
   "source": [
    "from scipy import stats # Import the scipy module"
   ]
  },
  {
   "cell_type": "markdown",
   "id": "a2d9d4bf-de59-4352-91c1-119620e971da",
   "metadata": {},
   "source": [
    "### The zscore function calculates the z‐value of the given variable"
   ]
  },
  {
   "cell_type": "markdown",
   "id": "db020d50-dcc3-4815-b4af-aebe0f8ca0c9",
   "metadata": {},
   "source": [
    "$$\n",
    "z = \\text{Standarized Value} = \\frac{x - \\bar{x}}{s} = \\frac{\\text{Data value - mean}}{\\text{Standard deviation}}\n",
    "$$"
   ]
  },
  {
   "cell_type": "code",
   "execution_count": 33,
   "id": "00058d6b-192a-4012-a1e3-0aa503fb31d5",
   "metadata": {},
   "outputs": [
    {
     "data": {
      "text/plain": [
       "<Axes: title={'center': 'Histogram of age'}, ylabel='Frequency'>"
      ]
     },
     "execution_count": 33,
     "metadata": {},
     "output_type": "execute_result"
    },
    {
     "data": {
      "image/png": "[encoded data removed]",
      "text/plain": [
       "<Figure size 640x480 with 1 Axes>"
      ]
     },
     "metadata": {},
     "output_type": "display_data"
    }
   ],
   "source": [
    "bank['age'].plot(kind = 'hist', title = 'Histogram of age')"
   ]
  },
  {
   "cell_type": "code",
   "execution_count": 34,
   "id": "12ea6159-316b-4867-836c-5f2028f20edf",
   "metadata": {},
   "outputs": [],
   "source": [
    "# Number of standard deviations above the mean\n",
    "bank[\"age_z\"] = stats.zscore(bank['age'])"
   ]
  },
  {
   "cell_type": "code",
   "execution_count": 35,
   "id": "4f62d665-b89e-4af7-8036-0d0960b65ba0",
   "metadata": {},
   "outputs": [
    {
     "name": "stdout",
     "output_type": "stream",
     "text": [
      "0     1.533034\n",
      "1     1.628993\n",
      "2    -0.290186\n",
      "3    -0.002309\n",
      "4     1.533034\n",
      "5     0.477486\n",
      "6     1.820911\n",
      "7     0.093650\n",
      "8    -1.537652\n",
      "9    -1.441693\n",
      "10    0.093650\n",
      "11   -1.441693\n",
      "12   -1.057857\n",
      "13    1.628993\n",
      "14   -0.482104\n",
      "15    1.341116\n",
      "16   -0.482104\n",
      "17    0.573445\n",
      "18    0.957281\n",
      "19   -0.098268\n",
      "Name: age_z, dtype: float64\n"
     ]
    }
   ],
   "source": [
    "print(bank['age_z'].head(n=20))"
   ]
  },
  {
   "cell_type": "code",
   "execution_count": 36,
   "id": "74389129-f94b-4223-8abc-1c49366967d8",
   "metadata": {},
   "outputs": [
    {
     "data": {
      "text/plain": [
       "<Axes: title={'center': 'Histogram of age normalized'}, ylabel='Frequency'>"
      ]
     },
     "execution_count": 36,
     "metadata": {},
     "output_type": "execute_result"
    },
    {
     "data": {
      "image/png": "[encoded data removed]",
      "text/plain": [
       "<Figure size 640x480 with 1 Axes>"
      ]
     },
     "metadata": {},
     "output_type": "display_data"
    }
   ],
   "source": [
    "bank['age_z'].plot(kind = 'hist', title = 'Histogram of age normalized')"
   ]
  },
  {
   "cell_type": "markdown",
   "id": "4796bf49-ba03-4bc2-a1a8-924e0c448745",
   "metadata": {},
   "source": [
    "## Identifying outliers"
   ]
  },
  {
   "cell_type": "markdown",
   "id": "92eb9739-e9a8-4df8-bc77-9cbd5a4a3a2e",
   "metadata": {},
   "source": [
    "### A rough rule of thumb is that a data value is an outlier if its z‐value is either greater than 3, or less than −3"
   ]
  },
  {
   "cell_type": "code",
   "execution_count": 76,
   "id": "688e408f-ae27-48b1-b6a2-227a758130b5",
   "metadata": {},
   "outputs": [
    {
     "data": {
      "text/html": [
       "<div>\n",
       "<style scoped>\n",
       "    .dataframe tbody tr th:only-of-type {\n",
       "        vertical-align: middle;\n",
       "    }\n",
       "\n",
       "    .dataframe tbody tr th {\n",
       "        vertical-align: top;\n",
       "    }\n",
       "\n",
       "    .dataframe thead th {\n",
       "        text-align: right;\n",
       "    }\n",
       "</style>\n",
       "<table border=\"1\" class=\"dataframe\">\n",
       "  <thead>\n",
       "    <tr style=\"text-align: right;\">\n",
       "      <th></th>\n",
       "      <th>age</th>\n",
       "      <th>job</th>\n",
       "      <th>marital</th>\n",
       "      <th>education</th>\n",
       "      <th>default</th>\n",
       "      <th>housing</th>\n",
       "      <th>loan</th>\n",
       "      <th>contact</th>\n",
       "      <th>month</th>\n",
       "      <th>day_of_week</th>\n",
       "      <th>...</th>\n",
       "      <th>poutcome</th>\n",
       "      <th>emp.var.rate</th>\n",
       "      <th>cons.price.idx</th>\n",
       "      <th>cons.conf.idx</th>\n",
       "      <th>euribor3m</th>\n",
       "      <th>nr.employed</th>\n",
       "      <th>y</th>\n",
       "      <th>index</th>\n",
       "      <th>education_numeric</th>\n",
       "      <th>age_z</th>\n",
       "    </tr>\n",
       "  </thead>\n",
       "  <tbody>\n",
       "    <tr>\n",
       "      <th>27757</th>\n",
       "      <td>76</td>\n",
       "      <td>retired</td>\n",
       "      <td>married</td>\n",
       "      <td>university.degree</td>\n",
       "      <td>no</td>\n",
       "      <td>no</td>\n",
       "      <td>yes</td>\n",
       "      <td>cellular</td>\n",
       "      <td>mar</td>\n",
       "      <td>thu</td>\n",
       "      <td>...</td>\n",
       "      <td>nonexistent</td>\n",
       "      <td>-1.8</td>\n",
       "      <td>92.843</td>\n",
       "      <td>-50.0</td>\n",
       "      <td>1.757</td>\n",
       "      <td>5099.1</td>\n",
       "      <td>no</td>\n",
       "      <td>27757.0</td>\n",
       "      <td>16.0</td>\n",
       "      <td>3.452213</td>\n",
       "    </tr>\n",
       "    <tr>\n",
       "      <th>27780</th>\n",
       "      <td>73</td>\n",
       "      <td>retired</td>\n",
       "      <td>married</td>\n",
       "      <td>university.degree</td>\n",
       "      <td>no</td>\n",
       "      <td>yes</td>\n",
       "      <td>no</td>\n",
       "      <td>cellular</td>\n",
       "      <td>mar</td>\n",
       "      <td>tue</td>\n",
       "      <td>...</td>\n",
       "      <td>failure</td>\n",
       "      <td>-1.8</td>\n",
       "      <td>92.843</td>\n",
       "      <td>-50.0</td>\n",
       "      <td>1.687</td>\n",
       "      <td>5099.1</td>\n",
       "      <td>no</td>\n",
       "      <td>27780.0</td>\n",
       "      <td>16.0</td>\n",
       "      <td>3.164336</td>\n",
       "    </tr>\n",
       "    <tr>\n",
       "      <th>27800</th>\n",
       "      <td>88</td>\n",
       "      <td>retired</td>\n",
       "      <td>divorced</td>\n",
       "      <td>basic.4y</td>\n",
       "      <td>no</td>\n",
       "      <td>yes</td>\n",
       "      <td>no</td>\n",
       "      <td>cellular</td>\n",
       "      <td>mar</td>\n",
       "      <td>wed</td>\n",
       "      <td>...</td>\n",
       "      <td>nonexistent</td>\n",
       "      <td>-1.8</td>\n",
       "      <td>92.843</td>\n",
       "      <td>-50.0</td>\n",
       "      <td>1.663</td>\n",
       "      <td>5099.1</td>\n",
       "      <td>no</td>\n",
       "      <td>27800.0</td>\n",
       "      <td>4.0</td>\n",
       "      <td>4.603720</td>\n",
       "    </tr>\n",
       "    <tr>\n",
       "      <th>27802</th>\n",
       "      <td>88</td>\n",
       "      <td>retired</td>\n",
       "      <td>divorced</td>\n",
       "      <td>basic.4y</td>\n",
       "      <td>no</td>\n",
       "      <td>no</td>\n",
       "      <td>no</td>\n",
       "      <td>cellular</td>\n",
       "      <td>mar</td>\n",
       "      <td>wed</td>\n",
       "      <td>...</td>\n",
       "      <td>nonexistent</td>\n",
       "      <td>-1.8</td>\n",
       "      <td>92.843</td>\n",
       "      <td>-50.0</td>\n",
       "      <td>1.663</td>\n",
       "      <td>5099.1</td>\n",
       "      <td>yes</td>\n",
       "      <td>27802.0</td>\n",
       "      <td>4.0</td>\n",
       "      <td>4.603720</td>\n",
       "    </tr>\n",
       "    <tr>\n",
       "      <th>27805</th>\n",
       "      <td>88</td>\n",
       "      <td>retired</td>\n",
       "      <td>divorced</td>\n",
       "      <td>basic.4y</td>\n",
       "      <td>no</td>\n",
       "      <td>yes</td>\n",
       "      <td>yes</td>\n",
       "      <td>cellular</td>\n",
       "      <td>mar</td>\n",
       "      <td>wed</td>\n",
       "      <td>...</td>\n",
       "      <td>nonexistent</td>\n",
       "      <td>-1.8</td>\n",
       "      <td>92.843</td>\n",
       "      <td>-50.0</td>\n",
       "      <td>1.663</td>\n",
       "      <td>5099.1</td>\n",
       "      <td>yes</td>\n",
       "      <td>27805.0</td>\n",
       "      <td>4.0</td>\n",
       "      <td>4.603720</td>\n",
       "    </tr>\n",
       "    <tr>\n",
       "      <th>...</th>\n",
       "      <td>...</td>\n",
       "      <td>...</td>\n",
       "      <td>...</td>\n",
       "      <td>...</td>\n",
       "      <td>...</td>\n",
       "      <td>...</td>\n",
       "      <td>...</td>\n",
       "      <td>...</td>\n",
       "      <td>...</td>\n",
       "      <td>...</td>\n",
       "      <td>...</td>\n",
       "      <td>...</td>\n",
       "      <td>...</td>\n",
       "      <td>...</td>\n",
       "      <td>...</td>\n",
       "      <td>...</td>\n",
       "      <td>...</td>\n",
       "      <td>...</td>\n",
       "      <td>...</td>\n",
       "      <td>...</td>\n",
       "      <td>...</td>\n",
       "    </tr>\n",
       "    <tr>\n",
       "      <th>40986</th>\n",
       "      <td>84</td>\n",
       "      <td>retired</td>\n",
       "      <td>divorced</td>\n",
       "      <td>basic.4y</td>\n",
       "      <td>unknown</td>\n",
       "      <td>yes</td>\n",
       "      <td>yes</td>\n",
       "      <td>cellular</td>\n",
       "      <td>oct</td>\n",
       "      <td>mon</td>\n",
       "      <td>...</td>\n",
       "      <td>success</td>\n",
       "      <td>-1.1</td>\n",
       "      <td>94.601</td>\n",
       "      <td>-49.5</td>\n",
       "      <td>1.000</td>\n",
       "      <td>4963.6</td>\n",
       "      <td>no</td>\n",
       "      <td>40986.0</td>\n",
       "      <td>4.0</td>\n",
       "      <td>4.219885</td>\n",
       "    </tr>\n",
       "    <tr>\n",
       "      <th>40996</th>\n",
       "      <td>81</td>\n",
       "      <td>retired</td>\n",
       "      <td>married</td>\n",
       "      <td>basic.4y</td>\n",
       "      <td>no</td>\n",
       "      <td>yes</td>\n",
       "      <td>no</td>\n",
       "      <td>cellular</td>\n",
       "      <td>oct</td>\n",
       "      <td>wed</td>\n",
       "      <td>...</td>\n",
       "      <td>failure</td>\n",
       "      <td>-1.1</td>\n",
       "      <td>94.601</td>\n",
       "      <td>-49.5</td>\n",
       "      <td>1.016</td>\n",
       "      <td>4963.6</td>\n",
       "      <td>yes</td>\n",
       "      <td>40996.0</td>\n",
       "      <td>4.0</td>\n",
       "      <td>3.932008</td>\n",
       "    </tr>\n",
       "    <tr>\n",
       "      <th>41004</th>\n",
       "      <td>80</td>\n",
       "      <td>retired</td>\n",
       "      <td>married</td>\n",
       "      <td>professional.course</td>\n",
       "      <td>no</td>\n",
       "      <td>yes</td>\n",
       "      <td>no</td>\n",
       "      <td>cellular</td>\n",
       "      <td>oct</td>\n",
       "      <td>thu</td>\n",
       "      <td>...</td>\n",
       "      <td>failure</td>\n",
       "      <td>-1.1</td>\n",
       "      <td>94.601</td>\n",
       "      <td>-49.5</td>\n",
       "      <td>1.025</td>\n",
       "      <td>4963.6</td>\n",
       "      <td>yes</td>\n",
       "      <td>41004.0</td>\n",
       "      <td>12.0</td>\n",
       "      <td>3.836049</td>\n",
       "    </tr>\n",
       "    <tr>\n",
       "      <th>41183</th>\n",
       "      <td>73</td>\n",
       "      <td>retired</td>\n",
       "      <td>married</td>\n",
       "      <td>professional.course</td>\n",
       "      <td>no</td>\n",
       "      <td>yes</td>\n",
       "      <td>no</td>\n",
       "      <td>cellular</td>\n",
       "      <td>nov</td>\n",
       "      <td>fri</td>\n",
       "      <td>...</td>\n",
       "      <td>nonexistent</td>\n",
       "      <td>-1.1</td>\n",
       "      <td>94.767</td>\n",
       "      <td>-50.8</td>\n",
       "      <td>1.028</td>\n",
       "      <td>4963.6</td>\n",
       "      <td>yes</td>\n",
       "      <td>41183.0</td>\n",
       "      <td>12.0</td>\n",
       "      <td>3.164336</td>\n",
       "    </tr>\n",
       "    <tr>\n",
       "      <th>41187</th>\n",
       "      <td>74</td>\n",
       "      <td>retired</td>\n",
       "      <td>married</td>\n",
       "      <td>professional.course</td>\n",
       "      <td>no</td>\n",
       "      <td>yes</td>\n",
       "      <td>no</td>\n",
       "      <td>cellular</td>\n",
       "      <td>nov</td>\n",
       "      <td>fri</td>\n",
       "      <td>...</td>\n",
       "      <td>failure</td>\n",
       "      <td>-1.1</td>\n",
       "      <td>94.767</td>\n",
       "      <td>-50.8</td>\n",
       "      <td>1.028</td>\n",
       "      <td>4963.6</td>\n",
       "      <td>no</td>\n",
       "      <td>NaN</td>\n",
       "      <td>12.0</td>\n",
       "      <td>3.260295</td>\n",
       "    </tr>\n",
       "  </tbody>\n",
       "</table>\n",
       "<p>369 rows × 24 columns</p>\n",
       "</div>"
      ],
      "text/plain": [
       "       age      job   marital            education  default housing loan  \\\n",
       "27757   76  retired   married    university.degree       no      no  yes   \n",
       "27780   73  retired   married    university.degree       no     yes   no   \n",
       "27800   88  retired  divorced             basic.4y       no     yes   no   \n",
       "27802   88  retired  divorced             basic.4y       no      no   no   \n",
       "27805   88  retired  divorced             basic.4y       no     yes  yes   \n",
       "...    ...      ...       ...                  ...      ...     ...  ...   \n",
       "40986   84  retired  divorced             basic.4y  unknown     yes  yes   \n",
       "40996   81  retired   married             basic.4y       no     yes   no   \n",
       "41004   80  retired   married  professional.course       no     yes   no   \n",
       "41183   73  retired   married  professional.course       no     yes   no   \n",
       "41187   74  retired   married  professional.course       no     yes   no   \n",
       "\n",
       "        contact month day_of_week  ...     poutcome  emp.var.rate  \\\n",
       "27757  cellular   mar         thu  ...  nonexistent          -1.8   \n",
       "27780  cellular   mar         tue  ...      failure          -1.8   \n",
       "27800  cellular   mar         wed  ...  nonexistent          -1.8   \n",
       "27802  cellular   mar         wed  ...  nonexistent          -1.8   \n",
       "27805  cellular   mar         wed  ...  nonexistent          -1.8   \n",
       "...         ...   ...         ...  ...          ...           ...   \n",
       "40986  cellular   oct         mon  ...      success          -1.1   \n",
       "40996  cellular   oct         wed  ...      failure          -1.1   \n",
       "41004  cellular   oct         thu  ...      failure          -1.1   \n",
       "41183  cellular   nov         fri  ...  nonexistent          -1.1   \n",
       "41187  cellular   nov         fri  ...      failure          -1.1   \n",
       "\n",
       "       cons.price.idx  cons.conf.idx euribor3m  nr.employed    y    index  \\\n",
       "27757          92.843          -50.0     1.757       5099.1   no  27757.0   \n",
       "27780          92.843          -50.0     1.687       5099.1   no  27780.0   \n",
       "27800          92.843          -50.0     1.663       5099.1   no  27800.0   \n",
       "27802          92.843          -50.0     1.663       5099.1  yes  27802.0   \n",
       "27805          92.843          -50.0     1.663       5099.1  yes  27805.0   \n",
       "...               ...            ...       ...          ...  ...      ...   \n",
       "40986          94.601          -49.5     1.000       4963.6   no  40986.0   \n",
       "40996          94.601          -49.5     1.016       4963.6  yes  40996.0   \n",
       "41004          94.601          -49.5     1.025       4963.6  yes  41004.0   \n",
       "41183          94.767          -50.8     1.028       4963.6  yes  41183.0   \n",
       "41187          94.767          -50.8     1.028       4963.6   no      NaN   \n",
       "\n",
       "       education_numeric     age_z  \n",
       "27757               16.0  3.452213  \n",
       "27780               16.0  3.164336  \n",
       "27800                4.0  4.603720  \n",
       "27802                4.0  4.603720  \n",
       "27805                4.0  4.603720  \n",
       "...                  ...       ...  \n",
       "40986                4.0  4.219885  \n",
       "40996                4.0  3.932008  \n",
       "41004               12.0  3.836049  \n",
       "41183               12.0  3.164336  \n",
       "41187               12.0  3.260295  \n",
       "\n",
       "[369 rows x 24 columns]"
      ]
     },
     "execution_count": 76,
     "metadata": {},
     "output_type": "execute_result"
    }
   ],
   "source": [
    "bank.query('age_z > 3 | age_z < -3') # List the outliers"
   ]
  },
  {
   "cell_type": "code",
   "execution_count": 79,
   "id": "d5b3c0a9-480d-496b-9e98-5ff403e46164",
   "metadata": {},
   "outputs": [],
   "source": [
    "# We can create a new data set with those values\n",
    "bank_outliers = bank.query('age_z > 3 | age_z < -3')"
   ]
  },
  {
   "cell_type": "code",
   "execution_count": 83,
   "id": "ed84dccf-6eb0-4c67-942f-cc4e6d30981b",
   "metadata": {},
   "outputs": [
    {
     "name": "stdout",
     "output_type": "stream",
     "text": [
      "       age      job   marital          education default housing loan  \\\n",
      "27757   76  retired   married  university.degree      no      no  yes   \n",
      "27780   73  retired   married  university.degree      no     yes   no   \n",
      "27800   88  retired  divorced           basic.4y      no     yes   no   \n",
      "27802   88  retired  divorced           basic.4y      no      no   no   \n",
      "27805   88  retired  divorced           basic.4y      no     yes  yes   \n",
      "\n",
      "        contact month day_of_week  ...     poutcome  emp.var.rate  \\\n",
      "27757  cellular   mar         thu  ...  nonexistent          -1.8   \n",
      "27780  cellular   mar         tue  ...      failure          -1.8   \n",
      "27800  cellular   mar         wed  ...  nonexistent          -1.8   \n",
      "27802  cellular   mar         wed  ...  nonexistent          -1.8   \n",
      "27805  cellular   mar         wed  ...  nonexistent          -1.8   \n",
      "\n",
      "       cons.price.idx  cons.conf.idx euribor3m  nr.employed    y    index  \\\n",
      "27757          92.843          -50.0     1.757       5099.1   no  27757.0   \n",
      "27780          92.843          -50.0     1.687       5099.1   no  27780.0   \n",
      "27800          92.843          -50.0     1.663       5099.1   no  27800.0   \n",
      "27802          92.843          -50.0     1.663       5099.1  yes  27802.0   \n",
      "27805          92.843          -50.0     1.663       5099.1  yes  27805.0   \n",
      "\n",
      "       education_numeric     age_z  \n",
      "27757               16.0  3.452213  \n",
      "27780               16.0  3.164336  \n",
      "27800                4.0  4.603720  \n",
      "27802                4.0  4.603720  \n",
      "27805                4.0  4.603720  \n",
      "\n",
      "[5 rows x 24 columns]\n"
     ]
    }
   ],
   "source": [
    "print(bank_outliers.head())"
   ]
  },
  {
   "cell_type": "code",
   "execution_count": 91,
   "id": "aa6a594b-9d87-4604-81b5-41d476b3192f",
   "metadata": {},
   "outputs": [],
   "source": [
    "# Lets sort the data\n",
    "bank_sort = bank.sort_values(['age_z'], ascending = False)"
   ]
  },
  {
   "cell_type": "code",
   "execution_count": 89,
   "id": "045b4560-4d3a-43b2-9da4-bb85fb21302b",
   "metadata": {
    "tags": []
   },
   "outputs": [
    {
     "name": "stdout",
     "output_type": "stream",
     "text": [
      "       age   marital\n",
      "38452   98   married\n",
      "38455   98   married\n",
      "27826   95  divorced\n",
      "38921   94   married\n",
      "39655   92   married\n",
      "40450   92   married\n",
      "39734   92  divorced\n",
      "40469   92   married\n",
      "38032   91   married\n",
      "38022   91   married\n",
      "39847   89  divorced\n",
      "40639   89  divorced\n",
      "40636   88   married\n",
      "30430   88  divorced\n",
      "37472   88  divorced\n"
     ]
    }
   ],
   "source": [
    "print(bank_sort[['age','marital']].head(n=15))   # To see only two specific columns"
   ]
  },
  {
   "cell_type": "code",
   "execution_count": null,
   "id": "2a619a62-db7c-4425-8847-700141389477",
   "metadata": {
    "tags": []
   },
   "outputs": [],
   "source": []
  }
 ],
 "metadata": {
  "kernelspec": {
   "display_name": "Python 3 (ipykernel)",
   "language": "python",
   "name": "python3"
  },
  "language_info": {
   "codemirror_mode": {
    "name": "ipython",
    "version": 3
   },
   "file_extension": ".py",
   "mimetype": "text/x-python",
   "name": "python",
   "nbconvert_exporter": "python",
   "pygments_lexer": "ipython3",
   "version": "3.11.5"
  }
 },
 "nbformat": 4,
 "nbformat_minor": 5
}
